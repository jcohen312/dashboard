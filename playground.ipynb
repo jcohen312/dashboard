{
 "cells": [
  {
   "cell_type": "code",
   "execution_count": 1,
   "metadata": {
    "ExecuteTime": {
     "end_time": "2020-03-30T16:26:21.654408Z",
     "start_time": "2020-03-30T16:26:15.698527Z"
    }
   },
   "outputs": [],
   "source": [
    "import pandas as pd\n",
    "import plotly.graph_objs as go"
   ]
  },
  {
   "cell_type": "code",
   "execution_count": 28,
   "metadata": {
    "ExecuteTime": {
     "end_time": "2020-03-30T16:44:26.887109Z",
     "start_time": "2020-03-30T16:44:26.860830Z"
    }
   },
   "outputs": [],
   "source": [
    "data1 = pd.read_csv('BizOps_Set1.csv')\n",
    "data2 = pd.read_csv('BizOps_Set2.csv')"
   ]
  },
  {
   "cell_type": "code",
   "execution_count": 29,
   "metadata": {
    "ExecuteTime": {
     "end_time": "2020-03-30T16:44:27.094325Z",
     "start_time": "2020-03-30T16:44:27.076800Z"
    }
   },
   "outputs": [],
   "source": [
    "combined = pd.merge(left=data1, right=data2, left_on = 'org_account_id', right_on='org_account_id')"
   ]
  },
  {
   "cell_type": "code",
   "execution_count": 30,
   "metadata": {
    "ExecuteTime": {
     "end_time": "2020-03-30T16:44:27.309850Z",
     "start_time": "2020-03-30T16:44:27.272791Z"
    }
   },
   "outputs": [
    {
     "data": {
      "text/html": [
       "<div>\n",
       "<style scoped>\n",
       "    .dataframe tbody tr th:only-of-type {\n",
       "        vertical-align: middle;\n",
       "    }\n",
       "\n",
       "    .dataframe tbody tr th {\n",
       "        vertical-align: top;\n",
       "    }\n",
       "\n",
       "    .dataframe thead th {\n",
       "        text-align: right;\n",
       "    }\n",
       "</style>\n",
       "<table border=\"1\" class=\"dataframe\">\n",
       "  <thead>\n",
       "    <tr style=\"text-align: right;\">\n",
       "      <th></th>\n",
       "      <th>org_account_id</th>\n",
       "      <th>org_account_name</th>\n",
       "      <th>org_account_status</th>\n",
       "      <th>sport_type</th>\n",
       "      <th>program_type</th>\n",
       "      <th>sales_rep</th>\n",
       "      <th>customer_success_manager</th>\n",
       "      <th>activation_date</th>\n",
       "      <th>months_on_platform</th>\n",
       "      <th>churn_date</th>\n",
       "      <th>transaction_type</th>\n",
       "      <th>transction_date</th>\n",
       "      <th>amount</th>\n",
       "      <th>Unnamed: 4</th>\n",
       "      <th>Unnamed: 5</th>\n",
       "      <th>Unnamed: 6</th>\n",
       "    </tr>\n",
       "  </thead>\n",
       "  <tbody>\n",
       "    <tr>\n",
       "      <th>0</th>\n",
       "      <td>6025.0</td>\n",
       "      <td>org_1</td>\n",
       "      <td>Active</td>\n",
       "      <td>Soccer</td>\n",
       "      <td>Club</td>\n",
       "      <td>Alex</td>\n",
       "      <td>Bob</td>\n",
       "      <td>6/1/15</td>\n",
       "      <td>52.0</td>\n",
       "      <td>NaN</td>\n",
       "      <td>PARTIAL_CREDIT</td>\n",
       "      <td>10/1/18</td>\n",
       "      <td>108423.11</td>\n",
       "      <td>NaN</td>\n",
       "      <td>NaN</td>\n",
       "      <td>NaN</td>\n",
       "    </tr>\n",
       "    <tr>\n",
       "      <th>1</th>\n",
       "      <td>6025.0</td>\n",
       "      <td>org_1</td>\n",
       "      <td>Active</td>\n",
       "      <td>Soccer</td>\n",
       "      <td>Club</td>\n",
       "      <td>Alex</td>\n",
       "      <td>Bob</td>\n",
       "      <td>6/1/15</td>\n",
       "      <td>52.0</td>\n",
       "      <td>NaN</td>\n",
       "      <td>CHARGE</td>\n",
       "      <td>10/2/18</td>\n",
       "      <td>5426.76</td>\n",
       "      <td>NaN</td>\n",
       "      <td>NaN</td>\n",
       "      <td>NaN</td>\n",
       "    </tr>\n",
       "    <tr>\n",
       "      <th>2</th>\n",
       "      <td>6025.0</td>\n",
       "      <td>org_1</td>\n",
       "      <td>Active</td>\n",
       "      <td>Soccer</td>\n",
       "      <td>Club</td>\n",
       "      <td>Alex</td>\n",
       "      <td>Bob</td>\n",
       "      <td>6/1/15</td>\n",
       "      <td>52.0</td>\n",
       "      <td>NaN</td>\n",
       "      <td>CHARGE</td>\n",
       "      <td>10/3/18</td>\n",
       "      <td>16352.56</td>\n",
       "      <td>NaN</td>\n",
       "      <td>NaN</td>\n",
       "      <td>NaN</td>\n",
       "    </tr>\n",
       "    <tr>\n",
       "      <th>3</th>\n",
       "      <td>6025.0</td>\n",
       "      <td>org_1</td>\n",
       "      <td>Active</td>\n",
       "      <td>Soccer</td>\n",
       "      <td>Club</td>\n",
       "      <td>Alex</td>\n",
       "      <td>Bob</td>\n",
       "      <td>6/1/15</td>\n",
       "      <td>52.0</td>\n",
       "      <td>NaN</td>\n",
       "      <td>CHARGE</td>\n",
       "      <td>10/4/18</td>\n",
       "      <td>10467.77</td>\n",
       "      <td>NaN</td>\n",
       "      <td>NaN</td>\n",
       "      <td>NaN</td>\n",
       "    </tr>\n",
       "    <tr>\n",
       "      <th>4</th>\n",
       "      <td>6025.0</td>\n",
       "      <td>org_1</td>\n",
       "      <td>Active</td>\n",
       "      <td>Soccer</td>\n",
       "      <td>Club</td>\n",
       "      <td>Alex</td>\n",
       "      <td>Bob</td>\n",
       "      <td>6/1/15</td>\n",
       "      <td>52.0</td>\n",
       "      <td>NaN</td>\n",
       "      <td>CHARGE</td>\n",
       "      <td>10/5/18</td>\n",
       "      <td>9162.72</td>\n",
       "      <td>NaN</td>\n",
       "      <td>NaN</td>\n",
       "      <td>NaN</td>\n",
       "    </tr>\n",
       "    <tr>\n",
       "      <th>...</th>\n",
       "      <td>...</td>\n",
       "      <td>...</td>\n",
       "      <td>...</td>\n",
       "      <td>...</td>\n",
       "      <td>...</td>\n",
       "      <td>...</td>\n",
       "      <td>...</td>\n",
       "      <td>...</td>\n",
       "      <td>...</td>\n",
       "      <td>...</td>\n",
       "      <td>...</td>\n",
       "      <td>...</td>\n",
       "      <td>...</td>\n",
       "      <td>...</td>\n",
       "      <td>...</td>\n",
       "      <td>...</td>\n",
       "    </tr>\n",
       "    <tr>\n",
       "      <th>13371</th>\n",
       "      <td>16023.0</td>\n",
       "      <td>org_50</td>\n",
       "      <td>Churn</td>\n",
       "      <td>Basketball</td>\n",
       "      <td>Tournament</td>\n",
       "      <td>Gretchen</td>\n",
       "      <td>Bob</td>\n",
       "      <td>9/1/16</td>\n",
       "      <td>37.0</td>\n",
       "      <td>4/1/19</td>\n",
       "      <td>CHARGE</td>\n",
       "      <td>11/29/18</td>\n",
       "      <td>13683.20</td>\n",
       "      <td>NaN</td>\n",
       "      <td>NaN</td>\n",
       "      <td>NaN</td>\n",
       "    </tr>\n",
       "    <tr>\n",
       "      <th>13372</th>\n",
       "      <td>16023.0</td>\n",
       "      <td>org_50</td>\n",
       "      <td>Churn</td>\n",
       "      <td>Basketball</td>\n",
       "      <td>Tournament</td>\n",
       "      <td>Gretchen</td>\n",
       "      <td>Bob</td>\n",
       "      <td>9/1/16</td>\n",
       "      <td>37.0</td>\n",
       "      <td>4/1/19</td>\n",
       "      <td>CHARGE</td>\n",
       "      <td>12/13/18</td>\n",
       "      <td>13683.20</td>\n",
       "      <td>NaN</td>\n",
       "      <td>NaN</td>\n",
       "      <td>NaN</td>\n",
       "    </tr>\n",
       "    <tr>\n",
       "      <th>13373</th>\n",
       "      <td>16023.0</td>\n",
       "      <td>org_50</td>\n",
       "      <td>Churn</td>\n",
       "      <td>Basketball</td>\n",
       "      <td>Tournament</td>\n",
       "      <td>Gretchen</td>\n",
       "      <td>Bob</td>\n",
       "      <td>9/1/16</td>\n",
       "      <td>37.0</td>\n",
       "      <td>4/1/19</td>\n",
       "      <td>CHARGE</td>\n",
       "      <td>1/9/19</td>\n",
       "      <td>3420.80</td>\n",
       "      <td>NaN</td>\n",
       "      <td>NaN</td>\n",
       "      <td>NaN</td>\n",
       "    </tr>\n",
       "    <tr>\n",
       "      <th>13374</th>\n",
       "      <td>16023.0</td>\n",
       "      <td>org_50</td>\n",
       "      <td>Churn</td>\n",
       "      <td>Basketball</td>\n",
       "      <td>Tournament</td>\n",
       "      <td>Gretchen</td>\n",
       "      <td>Bob</td>\n",
       "      <td>9/1/16</td>\n",
       "      <td>37.0</td>\n",
       "      <td>4/1/19</td>\n",
       "      <td>CHARGE</td>\n",
       "      <td>1/10/19</td>\n",
       "      <td>13683.20</td>\n",
       "      <td>NaN</td>\n",
       "      <td>NaN</td>\n",
       "      <td>NaN</td>\n",
       "    </tr>\n",
       "    <tr>\n",
       "      <th>13375</th>\n",
       "      <td>16023.0</td>\n",
       "      <td>org_50</td>\n",
       "      <td>Churn</td>\n",
       "      <td>Basketball</td>\n",
       "      <td>Tournament</td>\n",
       "      <td>Gretchen</td>\n",
       "      <td>Bob</td>\n",
       "      <td>9/1/16</td>\n",
       "      <td>37.0</td>\n",
       "      <td>4/1/19</td>\n",
       "      <td>CHARGE</td>\n",
       "      <td>1/14/19</td>\n",
       "      <td>39041.28</td>\n",
       "      <td>NaN</td>\n",
       "      <td>NaN</td>\n",
       "      <td>NaN</td>\n",
       "    </tr>\n",
       "  </tbody>\n",
       "</table>\n",
       "<p>13376 rows × 16 columns</p>\n",
       "</div>"
      ],
      "text/plain": [
       "       org_account_id org_account_name org_account_status  sport_type  \\\n",
       "0              6025.0            org_1             Active      Soccer   \n",
       "1              6025.0            org_1             Active      Soccer   \n",
       "2              6025.0            org_1             Active      Soccer   \n",
       "3              6025.0            org_1             Active      Soccer   \n",
       "4              6025.0            org_1             Active      Soccer   \n",
       "...               ...              ...                ...         ...   \n",
       "13371         16023.0           org_50              Churn  Basketball   \n",
       "13372         16023.0           org_50              Churn  Basketball   \n",
       "13373         16023.0           org_50              Churn  Basketball   \n",
       "13374         16023.0           org_50              Churn  Basketball   \n",
       "13375         16023.0           org_50              Churn  Basketball   \n",
       "\n",
       "      program_type sales_rep customer_success_manager activation_date  \\\n",
       "0             Club      Alex                      Bob          6/1/15   \n",
       "1             Club      Alex                      Bob          6/1/15   \n",
       "2             Club      Alex                      Bob          6/1/15   \n",
       "3             Club      Alex                      Bob          6/1/15   \n",
       "4             Club      Alex                      Bob          6/1/15   \n",
       "...            ...       ...                      ...             ...   \n",
       "13371   Tournament  Gretchen                      Bob          9/1/16   \n",
       "13372   Tournament  Gretchen                      Bob          9/1/16   \n",
       "13373   Tournament  Gretchen                      Bob          9/1/16   \n",
       "13374   Tournament  Gretchen                      Bob          9/1/16   \n",
       "13375   Tournament  Gretchen                      Bob          9/1/16   \n",
       "\n",
       "       months_on_platform churn_date transaction_type transction_date  \\\n",
       "0                    52.0        NaN   PARTIAL_CREDIT         10/1/18   \n",
       "1                    52.0        NaN           CHARGE         10/2/18   \n",
       "2                    52.0        NaN           CHARGE         10/3/18   \n",
       "3                    52.0        NaN           CHARGE         10/4/18   \n",
       "4                    52.0        NaN           CHARGE         10/5/18   \n",
       "...                   ...        ...              ...             ...   \n",
       "13371                37.0     4/1/19           CHARGE        11/29/18   \n",
       "13372                37.0     4/1/19           CHARGE        12/13/18   \n",
       "13373                37.0     4/1/19           CHARGE          1/9/19   \n",
       "13374                37.0     4/1/19           CHARGE         1/10/19   \n",
       "13375                37.0     4/1/19           CHARGE         1/14/19   \n",
       "\n",
       "          amount  Unnamed: 4  Unnamed: 5  Unnamed: 6  \n",
       "0      108423.11         NaN         NaN         NaN  \n",
       "1        5426.76         NaN         NaN         NaN  \n",
       "2       16352.56         NaN         NaN         NaN  \n",
       "3       10467.77         NaN         NaN         NaN  \n",
       "4        9162.72         NaN         NaN         NaN  \n",
       "...          ...         ...         ...         ...  \n",
       "13371   13683.20         NaN         NaN         NaN  \n",
       "13372   13683.20         NaN         NaN         NaN  \n",
       "13373    3420.80         NaN         NaN         NaN  \n",
       "13374   13683.20         NaN         NaN         NaN  \n",
       "13375   39041.28         NaN         NaN         NaN  \n",
       "\n",
       "[13376 rows x 16 columns]"
      ]
     },
     "execution_count": 30,
     "metadata": {},
     "output_type": "execute_result"
    }
   ],
   "source": [
    "combined"
   ]
  },
  {
   "cell_type": "code",
   "execution_count": 31,
   "metadata": {
    "ExecuteTime": {
     "end_time": "2020-03-30T16:44:27.450480Z",
     "start_time": "2020-03-30T16:44:27.444515Z"
    }
   },
   "outputs": [
    {
     "data": {
      "text/plain": [
       "array(['PARTIAL_CREDIT', 'CHARGE', 'CREDIT'], dtype=object)"
      ]
     },
     "execution_count": 31,
     "metadata": {},
     "output_type": "execute_result"
    }
   ],
   "source": [
    "combined.transaction_type.unique()"
   ]
  },
  {
   "cell_type": "code",
   "execution_count": 32,
   "metadata": {
    "ExecuteTime": {
     "end_time": "2020-03-30T16:44:27.635208Z",
     "start_time": "2020-03-30T16:44:27.628466Z"
    }
   },
   "outputs": [],
   "source": [
    "map_ = {'CHARGE': 'Revenue',\n",
    "      'CREDIT': 'Credit'}\n",
    "combined.transaction_type = combined.transaction_type.map(map_)"
   ]
  },
  {
   "cell_type": "code",
   "execution_count": 33,
   "metadata": {
    "ExecuteTime": {
     "end_time": "2020-03-30T16:44:27.802951Z",
     "start_time": "2020-03-30T16:44:27.796934Z"
    }
   },
   "outputs": [
    {
     "data": {
      "text/plain": [
       "array([nan, 'Revenue', 'Credit'], dtype=object)"
      ]
     },
     "execution_count": 33,
     "metadata": {},
     "output_type": "execute_result"
    }
   ],
   "source": [
    "combined.transaction_type.unique()"
   ]
  },
  {
   "cell_type": "code",
   "execution_count": 34,
   "metadata": {
    "ExecuteTime": {
     "end_time": "2020-03-30T16:44:27.999494Z",
     "start_time": "2020-03-30T16:44:27.980977Z"
    }
   },
   "outputs": [],
   "source": [
    "to_drop = combined[combined.transaction_type.isnull()==True].index\n",
    "combined.drop(to_drop, inplace=True)"
   ]
  },
  {
   "cell_type": "code",
   "execution_count": 35,
   "metadata": {
    "ExecuteTime": {
     "end_time": "2020-03-30T16:44:28.533558Z",
     "start_time": "2020-03-30T16:44:28.526693Z"
    }
   },
   "outputs": [
    {
     "data": {
      "text/plain": [
       "array(['Revenue', 'Credit'], dtype=object)"
      ]
     },
     "execution_count": 35,
     "metadata": {},
     "output_type": "execute_result"
    }
   ],
   "source": [
    "combined.transaction_type.unique()"
   ]
  },
  {
   "cell_type": "code",
   "execution_count": 36,
   "metadata": {
    "ExecuteTime": {
     "end_time": "2020-03-30T16:50:38.908895Z",
     "start_time": "2020-03-30T16:50:38.897774Z"
    }
   },
   "outputs": [
    {
     "data": {
      "text/plain": [
       "Index(['org_account_id', 'org_account_name', 'org_account_status',\n",
       "       'sport_type', 'program_type', 'sales_rep', 'customer_success_manager',\n",
       "       'activation_date', 'months_on_platform', 'churn_date',\n",
       "       'transaction_type', 'transction_date', 'amount', 'Unnamed: 4',\n",
       "       'Unnamed: 5', 'Unnamed: 6'],\n",
       "      dtype='object')"
      ]
     },
     "execution_count": 36,
     "metadata": {},
     "output_type": "execute_result"
    }
   ],
   "source": [
    "combined.columns"
   ]
  },
  {
   "cell_type": "code",
   "execution_count": 40,
   "metadata": {
    "ExecuteTime": {
     "end_time": "2020-03-30T16:52:29.628155Z",
     "start_time": "2020-03-30T16:52:29.616639Z"
    }
   },
   "outputs": [
    {
     "data": {
      "text/plain": [
       "[{'label': 'org_1', 'value': 'org_1'},\n",
       " {'label': 'org_2', 'value': 'org_2'},\n",
       " {'label': 'org_3', 'value': 'org_3'},\n",
       " {'label': 'org_4', 'value': 'org_4'},\n",
       " {'label': 'org_5', 'value': 'org_5'},\n",
       " {'label': 'org_6', 'value': 'org_6'},\n",
       " {'label': 'org_7', 'value': 'org_7'},\n",
       " {'label': 'org_8', 'value': 'org_8'},\n",
       " {'label': 'org_9', 'value': 'org_9'},\n",
       " {'label': 'org_10', 'value': 'org_10'},\n",
       " {'label': 'org_11', 'value': 'org_11'},\n",
       " {'label': 'org_12', 'value': 'org_12'},\n",
       " {'label': 'org_13', 'value': 'org_13'},\n",
       " {'label': 'org_14', 'value': 'org_14'},\n",
       " {'label': 'org_15', 'value': 'org_15'},\n",
       " {'label': 'org_16', 'value': 'org_16'},\n",
       " {'label': 'org_17', 'value': 'org_17'},\n",
       " {'label': 'org_18', 'value': 'org_18'},\n",
       " {'label': 'org_19', 'value': 'org_19'},\n",
       " {'label': 'org_20', 'value': 'org_20'},\n",
       " {'label': 'org_21', 'value': 'org_21'},\n",
       " {'label': 'org_22', 'value': 'org_22'},\n",
       " {'label': 'org_23', 'value': 'org_23'},\n",
       " {'label': 'org_24', 'value': 'org_24'},\n",
       " {'label': 'org_25', 'value': 'org_25'},\n",
       " {'label': 'org_26', 'value': 'org_26'},\n",
       " {'label': 'org_27', 'value': 'org_27'},\n",
       " {'label': 'org_28', 'value': 'org_28'},\n",
       " {'label': 'org_29', 'value': 'org_29'},\n",
       " {'label': 'org_30', 'value': 'org_30'},\n",
       " {'label': 'org_31', 'value': 'org_31'},\n",
       " {'label': 'org_32', 'value': 'org_32'},\n",
       " {'label': 'org_33', 'value': 'org_33'},\n",
       " {'label': 'org_34', 'value': 'org_34'},\n",
       " {'label': 'org_35', 'value': 'org_35'},\n",
       " {'label': 'org_36', 'value': 'org_36'},\n",
       " {'label': 'org_37', 'value': 'org_37'},\n",
       " {'label': 'org_38', 'value': 'org_38'},\n",
       " {'label': 'org_39', 'value': 'org_39'},\n",
       " {'label': 'org_40', 'value': 'org_40'},\n",
       " {'label': 'org_41', 'value': 'org_41'},\n",
       " {'label': 'org_42', 'value': 'org_42'},\n",
       " {'label': 'org_43', 'value': 'org_43'},\n",
       " {'label': 'org_44', 'value': 'org_44'},\n",
       " {'label': 'org_45', 'value': 'org_45'},\n",
       " {'label': 'org_46', 'value': 'org_46'},\n",
       " {'label': 'org_47', 'value': 'org_47'},\n",
       " {'label': 'org_48', 'value': 'org_48'},\n",
       " {'label': 'org_49', 'value': 'org_49'},\n",
       " {'label': 'org_50', 'value': 'org_50'}]"
      ]
     },
     "execution_count": 40,
     "metadata": {},
     "output_type": "execute_result"
    }
   ],
   "source": [
    "[{'label': org, 'value': org} for org in combined.org_account_name.unique()]"
   ]
  },
  {
   "cell_type": "code",
   "execution_count": 54,
   "metadata": {
    "ExecuteTime": {
     "end_time": "2020-03-30T17:41:50.751171Z",
     "start_time": "2020-03-30T17:41:49.359469Z"
    }
   },
   "outputs": [],
   "source": [
    "combined.index = pd.to_datetime(combined.transction_date)"
   ]
  },
  {
   "cell_type": "code",
   "execution_count": 67,
   "metadata": {
    "ExecuteTime": {
     "end_time": "2020-03-30T17:49:55.831606Z",
     "start_time": "2020-03-30T17:49:55.809838Z"
    }
   },
   "outputs": [],
   "source": [
    "grouped = combined.groupby(by=['org_account_name','transaction_type',pd.Grouper(freq='M'), ]).agg('sum')['amount']"
   ]
  },
  {
   "cell_type": "code",
   "execution_count": null,
   "metadata": {},
   "outputs": [],
   "source": []
  }
 ],
 "metadata": {
  "kernelspec": {
   "display_name": "Python 3",
   "language": "python",
   "name": "python3"
  },
  "language_info": {
   "codemirror_mode": {
    "name": "ipython",
    "version": 3
   },
   "file_extension": ".py",
   "mimetype": "text/x-python",
   "name": "python",
   "nbconvert_exporter": "python",
   "pygments_lexer": "ipython3",
   "version": "3.6.9"
  },
  "toc": {
   "base_numbering": 1,
   "nav_menu": {},
   "number_sections": true,
   "sideBar": true,
   "skip_h1_title": false,
   "title_cell": "Table of Contents",
   "title_sidebar": "Contents",
   "toc_cell": false,
   "toc_position": {},
   "toc_section_display": true,
   "toc_window_display": false
  }
 },
 "nbformat": 4,
 "nbformat_minor": 2
}
